{
 "cells": [
  {
   "cell_type": "code",
   "execution_count": 1,
   "metadata": {
    "collapsed": true
   },
   "outputs": [],
   "source": [
    "from __future__ import division\n",
    "import re\n",
    "import nltk\n",
    "import logging\n",
    "import os\n",
    "import string\n",
    "import xml.etree.ElementTree as ET\n",
    "from nltk.corpus import stopwords\n",
    "from nltk.corpus import WordNetCorpusReader\n",
    "from emotion import Emotion as Emo\n",
    "from pattern.en import parse\n",
    "from senpy.plugins import EmotionPlugin, SenpyPlugin, ShelfMixin\n",
    "from senpy.models import Results, EmotionSet, Entry, Emotion\n"
   ]
  },
  {
   "cell_type": "code",
   "execution_count": 5,
   "metadata": {
    "collapsed": false
   },
   "outputs": [],
   "source": [
    "# wn16 = WordNetCorpusReader(os.path.abspath(\"{0}\".format(self._wn16_path)), nltk.data.find(self._wn16_path))\n",
    "wn16_path = \"/data/emotion-wnaffect/wordnet1.6/dict\"\n",
    "wn16 = WordNetCorpusReader(wn16_path, nltk.data.find(wn16_path))\n",
    "#  the second param should be an omw_reader !! (:"
   ]
  },
  {
   "cell_type": "code",
   "execution_count": 6,
   "metadata": {
    "collapsed": true
   },
   "outputs": [],
   "source": [
    "wn16.synsets?"
   ]
  },
  {
   "cell_type": "code",
   "execution_count": 22,
   "metadata": {
    "collapsed": false
   },
   "outputs": [
    {
     "name": "stdout",
     "output_type": "stream",
     "text": [
      "[nltk_data] Downloading package omw to /Users/drevicko/nltk_data...\n",
      "[nltk_data]   Unzipping corpora/omw.zip.\n"
     ]
    },
    {
     "data": {
      "text/plain": [
       "True"
      ]
     },
     "execution_count": 22,
     "metadata": {},
     "output_type": "execute_result"
    }
   ],
   "source": [
    "nltk.download(\"omw\")"
   ]
  },
  {
   "cell_type": "code",
   "execution_count": 24,
   "metadata": {
    "collapsed": false
   },
   "outputs": [
    {
     "data": {
      "text/plain": [
       "u'eng, als, arb, bul, cat, cmn, dan, ell, eus, fas, fin, fra, glg, heb, hrv, ind, ita, jpn, nno, nob, pol, por, qcn, slv, spa, swe, tha, zsm'"
      ]
     },
     "execution_count": 24,
     "metadata": {},
     "output_type": "execute_result"
    }
   ],
   "source": [
    "from nltk.corpus import wordnet as wn\n",
    "\", \".join(wn.langs())"
   ]
  },
  {
   "cell_type": "code",
   "execution_count": 36,
   "metadata": {
    "collapsed": false
   },
   "outputs": [
    {
     "data": {
      "text/plain": [
       "(u'love.n.01', u'love.n.01')"
      ]
     },
     "execution_count": 36,
     "metadata": {},
     "output_type": "execute_result"
    }
   ],
   "source": [
    "wn.synsets(\"love\")[0].name(), wn16.synsets(\"love\")[0].name()"
   ]
  },
  {
   "cell_type": "code",
   "execution_count": 35,
   "metadata": {
    "collapsed": false
   },
   "outputs": [
    {
     "data": {
      "text/plain": [
       "u'love.n.01'"
      ]
     },
     "execution_count": 35,
     "metadata": {},
     "output_type": "execute_result"
    }
   ],
   "source": [
    "syn = wn.synsets(\"love\")[0]\n",
    "syn.name()"
   ]
  },
  {
   "cell_type": "code",
   "execution_count": 17,
   "metadata": {
    "collapsed": false
   },
   "outputs": [
    {
     "name": "stdout",
     "output_type": "stream",
     "text": [
      "I/PRP/B-NP/O/i had/VBD/B-VP/O/have a/DT/B-NP/O/a tomato/NN/I-NP/O/tomato at/IN/B-PP/B-PNP/at the/DT/B-NP/I-PNP/the shop/NN/I-NP/I-PNP/shop ././O/O/.\n",
      "[[[u'I', u'PRP', u'B-NP', u'O', u'i'], [u'had', u'VBD', u'B-VP', u'O', u'have'], [u'a', u'DT', u'B-NP', u'O', u'a'], [u'tomato', u'NN', u'I-NP', u'O', u'tomato'], [u'at', u'IN', u'B-PP', u'B-PNP', u'at'], [u'the', u'DT', u'B-NP', u'I-PNP', u'the'], [u'shop', u'NN', u'I-NP', u'I-PNP', u'shop'], [u'.', u'.', u'O', u'O', u'.']]]\n",
      "\n",
      "\n",
      "      I     PRP    B-NP       O       i\n",
      "    had     VBD    B-VP       O    have\n",
      "      a      DT    B-NP       O       a\n",
      " tomato      NN    I-NP       O  tomato\n",
      "     at      IN    B-PP   B-PNP      at\n",
      "    the      DT    B-NP   I-PNP     the\n",
      "   shop      NN    I-NP   I-PNP    shop\n",
      "      .       .       O       O       .\n",
      "\n"
     ]
    }
   ],
   "source": [
    "text = \"I had a tomato at the shop.\"\n",
    "sentencesP = parse(text,lemmata=True)\n",
    "print sentencesP\n",
    "sentencesP.split??\n",
    "sentences = sentencesP.split()\n",
    "print sentences\n",
    "print\n",
    "for s in sentences:\n",
    "    print\n",
    "    for w in s:\n",
    "        for p in w:\n",
    "            print \"%7s\"%p,\n",
    "        print\n",
    "print"
   ]
  }
 ],
 "metadata": {
  "kernelspec": {
   "display_name": "Python 2",
   "language": "python",
   "name": "python2"
  },
  "language_info": {
   "codemirror_mode": {
    "name": "ipython",
    "version": 2
   },
   "file_extension": ".py",
   "mimetype": "text/x-python",
   "name": "python",
   "nbconvert_exporter": "python",
   "pygments_lexer": "ipython2",
   "version": "2.7.13"
  }
 },
 "nbformat": 4,
 "nbformat_minor": 2
}
